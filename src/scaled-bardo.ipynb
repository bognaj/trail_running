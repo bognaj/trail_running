{
 "cells": [
  {
   "cell_type": "code",
   "execution_count": 1,
   "id": "006a74c2",
   "metadata": {},
   "outputs": [],
   "source": [
    "import numpy as np\n",
    "import pandas as pd\n",
    "import matplotlib.pyplot as plt\n",
    "from gekko import GEKKO\n",
    "\n",
    "from scipy.signal import savgol_filter"
   ]
  },
  {
   "cell_type": "code",
   "execution_count": 2,
   "id": "dae15631",
   "metadata": {},
   "outputs": [],
   "source": [
    "czantoria_full = pd.read_csv('data/csv/bardo.csv')\n",
    "czantoria_full.columns = ['time', 'distance', 'heartrate', 'cadence', 'velocity_smooth', 'altitude', 'grade_smooth']\n",
    "czantoria_nonzero = czantoria_full[(czantoria_full['velocity_smooth'] > 0) | (czantoria_full['time'] == 0)]\n",
    "czantoria_time = czantoria_nonzero.groupby('distance').agg({'time': 'max'}).reset_index()['time']\n",
    "czantoria_final = pd.merge(czantoria_nonzero, czantoria_time, on=['time'])"
   ]
  },
  {
   "cell_type": "code",
   "execution_count": 3,
   "id": "b7bf664c",
   "metadata": {},
   "outputs": [],
   "source": [
    "distance_data = czantoria_final['distance'].to_numpy()\n",
    "grade_data = czantoria_final['grade_smooth'].to_numpy()\n",
    "elevation_data = czantoria_final['altitude'].to_numpy()"
   ]
  },
  {
   "cell_type": "code",
   "execution_count": 4,
   "id": "970e5665",
   "metadata": {},
   "outputs": [],
   "source": [
    "grade_smooth = savgol_filter(grade_data, 201, 1)"
   ]
  },
  {
   "cell_type": "code",
   "execution_count": 5,
   "id": "134a5581",
   "metadata": {},
   "outputs": [
    {
     "data": {
      "text/plain": [
       "[<matplotlib.lines.Line2D at 0x253445dcca0>]"
      ]
     },
     "execution_count": 5,
     "metadata": {},
     "output_type": "execute_result"
    },
    {
     "data": {
      "image/png": "[encoded data removed]",
      "text/plain": [
       "<Figure size 432x288 with 1 Axes>"
      ]
     },
     "metadata": {
      "needs_background": "light"
     },
     "output_type": "display_data"
    }
   ],
   "source": [
    "plt.scatter(distance_data, grade_data)\n",
    "plt.plot(distance_data, grade_smooth, 'r')"
   ]
  },
  {
   "cell_type": "code",
   "execution_count": 6,
   "id": "e752283f",
   "metadata": {},
   "outputs": [],
   "source": [
    "# grade_data = np.arctan(grade_data/100)\n",
    "# yhat = np.arctan(grade_smooth/100)\n",
    "# plt.scatter(distance_data, grade_data)\n",
    "# plt.plot(distance_data, yhat, 'r')"
   ]
  },
  {
   "cell_type": "code",
   "execution_count": 7,
   "id": "e84efae5",
   "metadata": {},
   "outputs": [
    {
     "name": "stdout",
     "output_type": "stream",
     "text": [
      "7670\n",
      "337\n"
     ]
    }
   ],
   "source": [
    "grade_data = grade_smooth\n",
    "\n",
    "print(len(grade_data))\n",
    "\n",
    "n = distance_data.shape[0]\n",
    "to_stay = np.zeros(n)\n",
    "to_stay[0] = 1\n",
    "\n",
    "for i in range(n - 1):\n",
    "    if np.abs(grade_data[i+1] - grade_data[i]) < 1:\n",
    "        grade_data[i+1] = grade_data[i]\n",
    "        to_stay[i+1] = 0\n",
    "    elif np.sign(grade_data[i+1]) != np.sign(grade_data[i]):\n",
    "        to_stay[i + 1] = 1\n",
    "    else:\n",
    "        to_stay[i + 1] = 1\n",
    "        \n",
    "to_stay[-1] = 1\n",
    "\n",
    "grade_data = grade_data[to_stay == 1]\n",
    "distance_data = distance_data[to_stay == 1]\n",
    "elevation_data = elevation_data[to_stay == 1]\n",
    "\n",
    "print(len(grade_data))\n",
    "\n",
    "grade_data = np.arctan(grade_data/100)"
   ]
  },
  {
   "cell_type": "code",
   "execution_count": 8,
   "id": "255d9c76",
   "metadata": {},
   "outputs": [],
   "source": [
    "distance = distance_data[-1]\n",
    "\n",
    "x_data = distance_data/(distance_data[-1])\n",
    "slope_data = grade_data\n",
    "\n",
    "# x_data = x_data[x_data <= distance]\n",
    "# slope_data = slope_data[x_data <= distance]"
   ]
  },
  {
   "cell_type": "code",
   "execution_count": 9,
   "id": "edcb5dba",
   "metadata": {},
   "outputs": [],
   "source": [
    "# create GEKKO model\n",
    "m = GEKKO()"
   ]
  },
  {
   "cell_type": "code",
   "execution_count": 10,
   "id": "e78b3d7c",
   "metadata": {},
   "outputs": [],
   "source": [
    "t_est = 1 * 60 * 60\n",
    "t_min = 0.7 * 60 * 60\n",
    "t_max = 4 * 60 * 60"
   ]
  },
  {
   "cell_type": "code",
   "execution_count": 11,
   "id": "8b195712",
   "metadata": {},
   "outputs": [],
   "source": [
    "# constants\n",
    "N_m = 0.0222\n",
    "E0 = 1400\n",
    "X = distance\n",
    "tau = 0.67\n",
    "g = 9.81\n",
    "k = 0.03734\n",
    "mass = 55\n",
    "S = 22"
   ]
  },
  {
   "cell_type": "code",
   "execution_count": 12,
   "id": "664a9f65",
   "metadata": {},
   "outputs": [],
   "source": [
    "# equation parts\n",
    "alpha = (np.sqrt(S/tau) * X)/E0\n",
    "beta = (4 * 4184 * 1/75 * N_m * X)/(E0 * np.sqrt(S * tau))\n",
    "gamma = X/np.sqrt(S * tau**3)\n",
    "delta = (g*X)/(S*tau)\n",
    "mu = (k*N_m*X)/(np.sqrt(S*tau))"
   ]
  },
  {
   "cell_type": "code",
   "execution_count": 13,
   "id": "7cc132c2",
   "metadata": {},
   "outputs": [],
   "source": [
    "# scales\n",
    "u_scale = np.sqrt(S/tau)\n",
    "v_scale = np.sqrt(S*tau)\n",
    "t_scale = X/v_scale"
   ]
  },
  {
   "cell_type": "code",
   "execution_count": 14,
   "id": "35e4a9c1",
   "metadata": {},
   "outputs": [],
   "source": [
    "# scaled values\n",
    "sigma0 = 1\n",
    "e0 = 1\n",
    "x0 = 0\n",
    "v0 = 0\n",
    "n0 = 0.00201818/N_m\n",
    "\n",
    "e_crit = 0.15 * e0"
   ]
  },
  {
   "cell_type": "code",
   "execution_count": 15,
   "id": "f6ee8034",
   "metadata": {},
   "outputs": [],
   "source": [
    "# sigma data to create spline\n",
    "E_data = np.linspace(0, e0, 1001)\n",
    "sigma_data = sigma0 * E_data/(e0 * e_crit) + 0.75 * sigma0 * (1 - E_data/(e0 * e_crit))\n",
    "sigma_data[E_data > e_crit] = sigma0\n",
    "\n",
    "# slope data to create spline\n",
    "# x_data = np.linspace(0, 1, 3000)\n",
    "# slope_data = np.array(600*[1/18 * np.pi] + 600 * [-1/18 * np.pi] + 600*[1/36 * np.pi] + 600 * [-1/36 * np.pi] + 600 * [1/9 * np.pi])"
   ]
  },
  {
   "cell_type": "code",
   "execution_count": 16,
   "id": "d00fd939",
   "metadata": {},
   "outputs": [],
   "source": [
    "# time points [s]\n",
    "nt = 201\n",
    "tm = np.linspace(0,1,nt)\n",
    "m.time = tm"
   ]
  },
  {
   "cell_type": "code",
   "execution_count": 17,
   "id": "45b6ab1c",
   "metadata": {},
   "outputs": [],
   "source": [
    "# Variables\n",
    "v = m.Var(value=0.0, lb=0.0, ub=6/v_scale) #velocity\n",
    "E = m.Var(value=e0, lb=0.0, ub=e0) #energy\n",
    "x = m.Var(value=0.0) #horizontal coordinate\n",
    "N = m.Var(value=n0, lb=0.0) # oxidation rate\n",
    "\n",
    "sigma = m.Var(value=sigma0, lb=0) #breathing rate\n",
    "slope = m.Var(value=slope_data[0]) #slope\n",
    "\n",
    "p = np.zeros(nt)\n",
    "p[-1] = 1.0\n",
    "final = m.Param(value=p)"
   ]
  },
  {
   "cell_type": "code",
   "execution_count": 18,
   "id": "9f9515ac",
   "metadata": {},
   "outputs": [],
   "source": [
    "# FV - final time\n",
    "# tf = m.FV(value=t_est/t_scale,lb=t_min/t_scale,ub=t_max/t_scale)\n",
    "tf = m.FV(value=t_est/t_scale, lb = 0.1)\n",
    "tf.STATUS = 1"
   ]
  },
  {
   "cell_type": "code",
   "execution_count": 19,
   "id": "ab20ed57",
   "metadata": {},
   "outputs": [],
   "source": [
    "# MV\n",
    "u = m.MV(value=0,lb=0,ub=9.6/u_scale)\n",
    "u.STATUS = 1"
   ]
  },
  {
   "cell_type": "code",
   "execution_count": 20,
   "id": "7a8ef2c7",
   "metadata": {},
   "outputs": [],
   "source": [
    "# energy decrease at the end\n",
    "m.cspline(E, sigma, E_data, sigma_data, True)\n",
    "\n",
    "# slope\n",
    "m.cspline(x, slope, x_data, slope_data, True)"
   ]
  },
  {
   "cell_type": "code",
   "execution_count": 21,
   "id": "6d7c8d06",
   "metadata": {},
   "outputs": [],
   "source": [
    "# equations\n",
    "m.Equation(E.dt()==(alpha * (sigma - u * v) + beta * N)*tf)\n",
    "m.Equation(v.dt()==(gamma * (u - v) - delta * m.sin(slope)) * tf)\n",
    "m.Equation(x.dt()==(v*m.cos(slope))*tf)\n",
    "m.Equation(N.dt()==(mu * N * (1 - N))*tf)\n",
    "m.Equation(alpha * (sigma - u * v) + beta * N <= 0)\n",
    "m.Equation((distance - X*x)*final<=0)\n",
    "\n",
    "m.fix_final(E, 0)"
   ]
  },
  {
   "cell_type": "code",
   "execution_count": null,
   "id": "9b472b09",
   "metadata": {},
   "outputs": [
    {
     "name": "stdout",
     "output_type": "stream",
     "text": [
      "apm 90.156.80.122_gk_model0 <br><pre> ----------------------------------------------------------------\n",
      " APMonitor, Version 1.0.1\n",
      " APMonitor Optimization Suite\n",
      " ----------------------------------------------------------------\n",
      " \n",
      " \n",
      " --------- APM Model Size ------------\n",
      " Each time step contains\n",
      "   Objects      :            2\n",
      "   Constants    :            0\n",
      "   Variables    :           11\n",
      "   Intermediates:            0\n",
      "   Connections  :            6\n",
      "   Equations    :            6\n",
      "   Residuals    :            6\n",
      " \n",
      " Number of state variables:           3399\n",
      " Number of total equations: -         3200\n",
      " Number of slack variables: -          400\n",
      " ---------------------------------------\n",
      " Degrees of freedom       :           -201\n",
      " \n",
      " * Warning: DOF <= 0\n",
      " **********************************************\n",
      " Dynamic Control with Interior Point Solver\n",
      " **********************************************\n",
      "  \n",
      "  \n",
      " Info: Exact Hessian\n",
      "\n",
      "******************************************************************************\n",
      "This program contains Ipopt, a library for large-scale nonlinear optimization.\n",
      " Ipopt is released as open source code under the Eclipse Public License (EPL).\n",
      "         For more information visit http://projects.coin-or.org/Ipopt\n",
      "******************************************************************************\n",
      "\n",
      "This is Ipopt version 3.12.10, running with linear solver ma57.\n",
      "\n",
      "Number of nonzeros in equality constraint Jacobian...:     9191\n",
      "Number of nonzeros in inequality constraint Jacobian.:      800\n",
      "Number of nonzeros in Lagrangian Hessian.............:     2199\n",
      "\n",
      "Total number of variables............................:     3399\n",
      "                     variables with only lower bounds:     1201\n",
      "                variables with lower and upper bounds:      799\n",
      "                     variables with only upper bounds:        0\n",
      "Total number of equality constraints.................:     2800\n",
      "Total number of inequality constraints...............:      400\n",
      "        inequality constraints with only lower bounds:      400\n",
      "   inequality constraints with lower and upper bounds:        0\n",
      "        inequality constraints with only upper bounds:        0\n",
      "\n",
      "iter    objective    inf_pr   inf_du lg(mu)  ||d||  lg(rg) alpha_du alpha_pr  ls\n",
      "   0  4.3799955e-04 1.98e+04 1.00e+00   0.0 0.00e+00    -  0.00e+00 0.00e+00   0\n",
      "   1  4.3799955e-04 1.98e+04 2.92e+00  -6.4 3.88e+03    -  2.89e-04 9.84e-05h  1\n",
      "   2  4.4842978e-04 1.98e+04 3.95e+01   1.2 9.13e+03    -  1.38e-04 1.60e-05h  1\n",
      "   3  4.9397705e-04 1.98e+04 1.13e+01   1.6 5.74e+04    -  2.18e-07 2.59e-05h  1\n",
      "   4  6.8686948e-03 1.95e+04 4.87e+05   1.0 1.53e+05    -  3.90e-05 1.37e-02f  1\n",
      "   5  6.8684535e-03 1.94e+04 4.93e+05  -6.4 8.71e+03    -  9.79e-05 7.09e-03h  1\n",
      "   6  6.8814317e-03 1.94e+04 4.93e+05   1.7 4.84e+03   2.0 7.16e-05 1.10e-04f  1\n",
      "   7  7.7879533e-03 1.93e+04 6.60e+06   1.7 4.99e+03   1.5 8.25e-05 2.86e-03f  1\n",
      "   8  7.7929356e-03 1.93e+04 6.60e+06   1.8 3.01e+03   1.9 7.19e-05 3.25e-05h  1\n",
      "   9  7.8032860e-03 1.93e+04 6.60e+06   1.8 2.90e+03   1.5 9.66e-05 2.53e-05h  1\n",
      "iter    objective    inf_pr   inf_du lg(mu)  ||d||  lg(rg) alpha_du alpha_pr  ls\n",
      "  10  8.3897462e-03 1.93e+04 6.69e+06   1.8 3.07e+03   1.0 6.63e-05 6.43e-04f  1\n",
      "  11  8.3898071e-03 1.93e+04 6.69e+06  -6.2 1.77e+04    -  8.26e-03 6.56e-04h  1\n",
      "  12  1.0053256e-02 1.93e+04 6.56e+06   1.8 4.16e+03   0.5 1.39e-04 9.31e-04f  1\n",
      "  13  1.0059601e-02 1.93e+04 6.56e+06   1.9 1.97e+04   0.9 6.19e-06 6.19e-06s  5\n",
      "  14  1.0177079e-02 1.93e+04 6.54e+06   1.9 3.21e+03   1.4 1.42e-04 2.38e-04f  1\n"
     ]
    }
   ],
   "source": [
    "m.options.IMODE = 6\n",
    "m.options.MAX_ITER=30000\n",
    "m.options.SOLVER=3\n",
    "# m.options.RTOL=1e-4\n",
    "# m.options.OTOL=1e-4\n",
    "\n",
    "m.solve()\n",
    "\n",
    "print('Final Time: ' + str(tf.value[0] * t_scale))\n",
    "\n",
    "tm = tm * tf.value[0] * t_scale"
   ]
  },
  {
   "cell_type": "code",
   "execution_count": null,
   "id": "c79c1234",
   "metadata": {},
   "outputs": [],
   "source": [
    "plt.figure(1)\n",
    "plt.plot(tm,v.value,'k-',lw=2,label=r'$v$')\n",
    "plt.plot(tm,u.value,'r--',lw=2,label=r'$f$')\n",
    "plt.legend(loc='best')\n",
    "plt.xlabel('Time')\n",
    "plt.ylabel('Value')\n",
    "plt.show()"
   ]
  },
  {
   "cell_type": "code",
   "execution_count": null,
   "id": "391e0b20",
   "metadata": {},
   "outputs": [],
   "source": [
    "plt.figure(2)\n",
    "plt.plot(tm,np.array(E.value)/max(E.value),'b-',lw=2,label=r'$E$')\n",
    "plt.plot(tm,np.array(v.value)/max(v.value),'k--',lw=2,label=r'$v$')\n",
    "plt.plot(tm, np.array(sigma.value)/max(sigma.value), 'y-', lw=2, label=r'$\\sigma$')\n",
    "plt.plot(tm, np.array(N.value)/max(N.value), 'g--', lw=2, label=r'$N$')\n",
    "plt.plot(tm,slope, label=r'$\\alpha$')\n",
    "plt.legend()\n",
    "plt.show()"
   ]
  },
  {
   "cell_type": "code",
   "execution_count": null,
   "id": "2a0815cc",
   "metadata": {},
   "outputs": [],
   "source": [
    "6281/3600"
   ]
  },
  {
   "cell_type": "code",
   "execution_count": null,
   "id": "ecf6fc23",
   "metadata": {},
   "outputs": [],
   "source": []
  }
 ],
 "metadata": {
  "kernelspec": {
   "display_name": "Python 3 (ipykernel)",
   "language": "python",
   "name": "python3"
  },
  "language_info": {
   "codemirror_mode": {
    "name": "ipython",
    "version": 3
   },
   "file_extension": ".py",
   "mimetype": "text/x-python",
   "name": "python",
   "nbconvert_exporter": "python",
   "pygments_lexer": "ipython3",
   "version": "3.9.12"
  }
 },
 "nbformat": 4,
 "nbformat_minor": 5
}
